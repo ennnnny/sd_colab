{
 "cells": [
  {
   "attachments": {},
   "cell_type": "markdown",
   "metadata": {},
   "source": [
    "<a href=\"https://colab.research.google.com/github/ennnnny/sd_colab/blob/self/editanything.ipynb\" target=\"_parent\"><img src=\"https://colab.research.google.com/assets/colab-badge.svg\" alt=\"Open In Colab\"/></a>"
   ]
  },
  {
   "cell_type": "markdown",
   "metadata": {},
   "source": [
    "## EditAnything"
   ]
  },
  {
   "cell_type": "code",
   "execution_count": null,
   "metadata": {},
   "outputs": [],
   "source": [
    "#@markdown ### install environment\n",
    "%cd /content\n",
    "!python -V\n",
    "!wget -c https://repo.anaconda.com/miniconda/Miniconda3-py310_23.3.1-0-Linux-x86_64.sh\n",
    "!ls\n",
    "!chmod +x Miniconda3-py310_23.3.1-0-Linux-x86_64.sh\n",
    "%env PYTHONPATH=\n",
    "!./Miniconda3-py310_23.3.1-0-Linux-x86_64.sh -b -f -p /usr/local\n",
    "!conda --version\n",
    "# update\n",
    "!conda install conda=23.5.0\n",
    "\n",
    "#@markdown git clone\n",
    "!git clone https://github.com/sail-sg/EditAnything /content/EditAnything\n",
    "%cd /content/EditAnything\n",
    "#!sed -i 's/defaults/nvidia/g' environment.yaml\n",
    "!sed -i 's/safetensors==0.2.7/safetensors==0.3.1/g' environment.yaml\n",
    "\n",
    "\n",
    "!conda env create -f environment.yaml\n",
    "!conda env list\n"
   ]
  },
  {
   "cell_type": "code",
   "execution_count": null,
   "metadata": {},
   "outputs": [],
   "source": [
    "#@markdown install other(OPTIONAL)\n",
    "!source activate control && pip install git+https://github.com/huggingface/transformers.git\n",
    "!source activate control && pip install git+https://github.com/facebookresearch/segment-anything.git\n",
    "!source activate control && pip install git+https://github.com/openai/CLIP.git\n",
    "!source activate control && pip install git+https://github.com/facebookresearch/detectron2.git\n",
    "!source activate control && pip install git+https://github.com/IDEA-Research/GroundingDINO.git\n",
    "\n",
    "\n",
    "#!source activate control && pip install accelerate==0.20.3 #pip install accelerate -U\n",
    "!source activate control && pip install -r requirements.txt\n",
    "\n",
    "#!source activate control && pip install xformers\n",
    "# pip install  torch==2.0.1+cu117 torchvision==0.15.2+cu117 -f https://download.pytorch.org/whl/torch_stable.html"
   ]
  },
  {
   "cell_type": "code",
   "execution_count": null,
   "metadata": {},
   "outputs": [],
   "source": [
    "#@markdown ### Download pretrained model\n",
    "# Segment-anything ViT-H SAM model. \n",
    "%cd /content/EditAnything/models/\n",
    "\n",
    "!wget -q --show-progress https://dl.fbaipublicfiles.com/segment_anything/sam_vit_h_4b8939.pth\n",
    "\n",
    "# BLIP2 model will be auto downloaded.\n",
    "\n",
    "# Part Grounding Swin-Base Model.\n",
    "!wget -q --show-progress https://github.com/Cheems-Seminar/segment-anything-and-name-it/releases/download/v1.0/swinbase_part_0a0000.pth\n",
    "\n",
    "# Grounding DINO Model.\n",
    "!wget -q --show-progress https://github.com/IDEA-Research/GroundingDINO/releases/download/v0.1.0-alpha2/groundingdino_swinb_cogcoor.pth\n",
    "\n",
    "# Get pretrained model from huggingface. \n",
    "# No need to download this! But please install safetensors for reading the ckpt."
   ]
  },
  {
   "cell_type": "code",
   "execution_count": null,
   "metadata": {},
   "outputs": [],
   "source": [
    "#@markdown ### Run\n",
    "%cd /content/EditAnything\n",
    "\n",
    "!source activate control && python editany_test.py --share"
   ]
  }
 ],
 "metadata": {
  "language_info": {
   "name": "python"
  },
  "orig_nbformat": 4
 },
 "nbformat": 4,
 "nbformat_minor": 2
}
