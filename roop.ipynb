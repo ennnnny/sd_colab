{
 "cells": [
  {
   "attachments": {},
   "cell_type": "markdown",
   "metadata": {},
   "source": [
    "<a href=\"https://colab.research.google.com/github/ennnnny/sd_colab/blob/self/roop.ipynb\" target=\"_parent\"><img src=\"https://colab.research.google.com/assets/colab-badge.svg\" alt=\"Open In Colab\"/></a>"
   ]
  },
  {
   "cell_type": "code",
   "execution_count": null,
   "metadata": {},
   "outputs": [],
   "source": [
    "#@title ## 1、加载谷歌云盘并初始化环境\n",
    "#@markdown ####是否允许加载谷歌云盘：##\n",
    "is_load_pan = \"\\u5141\\u8BB8\" #@param [\"允许\",\"禁止\"]\n",
    "\n",
    "if is_load_pan==\"允许\":\n",
    "    from google.colab import drive\n",
    "    drive.mount('/content/drive')\n",
    "else:\n",
    "    print('已禁止加载云盘')"
   ]
  },
  {
   "cell_type": "code",
   "execution_count": null,
   "metadata": {},
   "outputs": [],
   "source": [
    "#@title ## 2、克隆源代码\n",
    "!git clone https://github.com/s0md3v/roop.git\n",
    "\n",
    "#@title ## 3、进入项目&安装依赖\n",
    "%cd /content/roop\n",
    "!pip install -r requirements.txt\n",
    "\n",
    "#@title ## 4、下载模型\n",
    "!wget -nc https://civitai.com/api/download/models/85159 -O /content/roop/inswapper_128.onnx"
   ]
  },
  {
   "cell_type": "code",
   "execution_count": null,
   "metadata": {},
   "outputs": [],
   "source": [
    "import time\n",
    "#@title ## 5、开始换脸\n",
    "#@markdown ####图片地址：##\n",
    "pic_path = \"/content/\" #@param {type: \"string\"}\n",
    "#@markdown ####视频地址：##\n",
    "video_path = \"/content/\" #@param {type: \"string\"}\n",
    "#@markdown ####GPU模式：##\n",
    "GPU = True #@param {type:\"boolean\"}\n",
    "#@markdown ####保持原视频FPS：##\n",
    "keep_fps = False #@param {type:\"boolean\"}\n",
    "\n",
    "timestamp = time.time()\n",
    "\n",
    "str = \"\"\n",
    "if GPU:\n",
    "    str+=f\" --gpu-vendor nvidia\"\n",
    "if keep_fps:\n",
    "    str+=f\" --keep-fps \"\n",
    "str+=f\" -f {pic_path} -t {video_path} -o /content/out_{timestamp}.mp4\"\n",
    "\n",
    "!python run.py {str}"
   ]
  }
 ],
 "metadata": {
  "language_info": {
   "name": "python"
  },
  "orig_nbformat": 4
 },
 "nbformat": 4,
 "nbformat_minor": 2
}
